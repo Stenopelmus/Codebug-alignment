{
 "cells": [
  {
   "cell_type": "markdown",
   "metadata": {},
   "source": [
    "# Codebug Alignment chart\n",
    "The following is an overview of streamer alignments as curated by Ellie. The notebook allows you to generate your own alignment and view how you relate to them.\n",
    "\n",
    "#### Install packages if needed"
   ]
  },
  {
   "cell_type": "code",
   "execution_count": null,
   "metadata": {},
   "outputs": [],
   "source": [
    "import subprocess\n",
    "import sys\n",
    "\n",
    "def install(package):\n",
    "    subprocess.check_call([sys.executable, \"-m\", \"pip\", \"install\", package])\n",
    "\n",
    "install('pandas')\n",
    "install('numpy')\n",
    "install('seaborn')\n",
    "install('plotly')\n",
    "install('scipy')\n",
    "install('matplotlib')\n",
    "install('nbformat')\n",
    "install('ipywidgets ')"
   ]
  },
  {
   "cell_type": "markdown",
   "metadata": {},
   "source": [
    "#### Load relevant libraries and data to compare to"
   ]
  },
  {
   "cell_type": "code",
   "execution_count": 35,
   "metadata": {},
   "outputs": [],
   "source": [
    "import pandas as pd\n",
    "import numpy as np\n",
    "import seaborn as sns\n",
    "import plotly.graph_objects as go\n",
    "from scipy.spatial.distance import pdist, squareform\n",
    "import matplotlib.pyplot as plt\n",
    "\n",
    "data = pd.DataFrame({\n",
    "    'Name': [\"Bo\", \"Reya\", \"Ellie\", \"Shoomi\", \"Camilla\", \"Layna\", \"Toma\", \"Cerber\", \"Neuro\", \"Evil\", \"Bao\", \"Numi\", \"Mini\", \"Vedal\"],\n",
    "    'Size': [\"huge\", \"huge\", \"little\", \"little\", \"huge\", \"little\", \"regular\", \"little\", \"huge\", \"huge\", \"little\", \"little\", \"huge\", \"little\"],\n",
    "    'Teasing': [\"shit\", \"shit\", \"piss\", \"piss\", \"butt\", \"butt\", \"shit\", \"butt\", \"piss\", \"shit\", \"piss\", \"shit\", \"butt\", \"shit\"],\n",
    "    'Responsibility': [\"boy\", \"man\", \"man\", \"boy\", \"boy\", \"man\", \"guy\", \"boy\", \"boy\", \"boy\", \"boy\", \"boy\", \"boy\", \"man\"],\n",
    "    'Type': [\"streamer\", \"streamer\", \"streamer\", \"streamer\", \"streamer\", \"streamer\", \"streamer\", \"streamer\", \"streamer\", \"streamer\", \"streamer\", \"streamer\", \"streamer\", \"streamer\"]\n",
    "})\n",
    "\n",
    "size_levels = [\"little\", \"regular\", \"huge\"]\n",
    "teasing_levels = [\"piss\", \"butt\", \"shit\"]\n",
    "responsibility_levels = [\"boy\", \"guy\", \"man\"]\n",
    "\n",
    "data['Size'] = pd.Categorical(data['Size'], categories=size_levels, ordered=True)\n",
    "data['Teasing'] = pd.Categorical(data['Teasing'], categories=teasing_levels, ordered=True)\n",
    "data['Responsibility'] = pd.Categorical(data['Responsibility'], categories=responsibility_levels, ordered=True)\n",
    "\n",
    "data['Size_num'] = data['Size'].cat.codes + 1\n",
    "data['Teasing_num'] = data['Teasing'].cat.codes + 1\n",
    "data['Responsibility_num'] = data['Responsibility'].cat.codes + 1\n",
    "\n",
    "data['Size_num'] = data['Size'].cat.codes.astype(int)\n",
    "data['Teasing_num'] = data['Teasing'].cat.codes.astype(int)\n",
    "data['Responsibility_num'] = data['Responsibility'].cat.codes.astype(int)"
   ]
  },
  {
   "cell_type": "markdown",
   "metadata": {},
   "source": [
    "#### Generate your own alignment"
   ]
  },
  {
   "cell_type": "code",
   "execution_count": 56,
   "metadata": {},
   "outputs": [
    {
     "data": {
      "application/vnd.jupyter.widget-view+json": {
       "model_id": "a7c6e5f2a3494125aa35dbb99c89ced9",
       "version_major": 2,
       "version_minor": 0
      },
      "text/plain": [
       "Text(value='', description='Name:')"
      ]
     },
     "metadata": {},
     "output_type": "display_data"
    },
    {
     "data": {
      "application/vnd.jupyter.widget-view+json": {
       "model_id": "58f4105b6fed4639856e4e882faa2518",
       "version_major": 2,
       "version_minor": 0
      },
      "text/plain": [
       "HTML(value='<h3>Size</h3><b>Description:</b> Given the abstract context they are normally referenced in, are y…"
      ]
     },
     "metadata": {},
     "output_type": "display_data"
    },
    {
     "data": {
      "application/vnd.jupyter.widget-view+json": {
       "model_id": "576852ac4ec34d4eb9ed127e4504393a",
       "version_major": 2,
       "version_minor": 0
      },
      "text/plain": [
       "HTML(value='1. Do you tackle challenges head-on or with calculated steps?')"
      ]
     },
     "metadata": {},
     "output_type": "display_data"
    },
    {
     "data": {
      "application/vnd.jupyter.widget-view+json": {
       "model_id": "3b152615d58849f591765b7f24940144",
       "version_major": 2,
       "version_minor": 0
      },
      "text/plain": [
       "Dropdown(options=('disagree', 'agree', 'strongly agree'), value='disagree')"
      ]
     },
     "metadata": {},
     "output_type": "display_data"
    },
    {
     "data": {
      "application/vnd.jupyter.widget-view+json": {
       "model_id": "443e35af32a64f838f20c405488226c8",
       "version_major": 2,
       "version_minor": 0
      },
      "text/plain": [
       "HTML(value='2. In a social situation, do you typically prefer to stay in the background and observe instead of…"
      ]
     },
     "metadata": {},
     "output_type": "display_data"
    },
    {
     "data": {
      "application/vnd.jupyter.widget-view+json": {
       "model_id": "bf2649238e1949329b12f5eb19717f36",
       "version_major": 2,
       "version_minor": 0
      },
      "text/plain": [
       "Dropdown(options=('disagree', 'agree', 'strongly agree'), value='disagree')"
      ]
     },
     "metadata": {},
     "output_type": "display_data"
    },
    {
     "data": {
      "application/vnd.jupyter.widget-view+json": {
       "model_id": "1083d626988143478841000d8ad9d71f",
       "version_major": 2,
       "version_minor": 0
      },
      "text/plain": [
       "HTML(value='3. If you were playing a strategy game, do you rush to take the lead with bold moves?')"
      ]
     },
     "metadata": {},
     "output_type": "display_data"
    },
    {
     "data": {
      "application/vnd.jupyter.widget-view+json": {
       "model_id": "c7f06f7094144beaa7da096689d1d176",
       "version_major": 2,
       "version_minor": 0
      },
      "text/plain": [
       "Dropdown(options=('disagree', 'agree', 'strongly agree'), value='disagree')"
      ]
     },
     "metadata": {},
     "output_type": "display_data"
    },
    {
     "data": {
      "application/vnd.jupyter.widget-view+json": {
       "model_id": "d8035e1260fc461fb233132b6b2fdfae",
       "version_major": 2,
       "version_minor": 0
      },
      "text/plain": [
       "HTML(value='4. Do you feel more comfortable in small, intimate settings or large, crowded environments?')"
      ]
     },
     "metadata": {},
     "output_type": "display_data"
    },
    {
     "data": {
      "application/vnd.jupyter.widget-view+json": {
       "model_id": "19d8ecb7f3214bf3af0fc03e048f4906",
       "version_major": 2,
       "version_minor": 0
      },
      "text/plain": [
       "Dropdown(options=('disagree', 'agree', 'strongly agree'), value='disagree')"
      ]
     },
     "metadata": {},
     "output_type": "display_data"
    },
    {
     "data": {
      "application/vnd.jupyter.widget-view+json": {
       "model_id": "9f0ca53450c2464989fb56f986703f78",
       "version_major": 2,
       "version_minor": 0
      },
      "text/plain": [
       "HTML(value='5. In a group setting, do you feel more comfortable taking on a leadership role over without stand…"
      ]
     },
     "metadata": {},
     "output_type": "display_data"
    },
    {
     "data": {
      "application/vnd.jupyter.widget-view+json": {
       "model_id": "e75e3547f7904437bff774524d7e01e0",
       "version_major": 2,
       "version_minor": 0
      },
      "text/plain": [
       "Dropdown(options=('disagree', 'agree', 'strongly agree'), value='disagree')"
      ]
     },
     "metadata": {},
     "output_type": "display_data"
    },
    {
     "data": {
      "application/vnd.jupyter.widget-view+json": {
       "model_id": "a12c434dcfd34de58ca3e531405347bb",
       "version_major": 2,
       "version_minor": 0
      },
      "text/plain": [
       "HTML(value='<h3>Teasing</h3><b>Description:</b> When you tease your friends, are you cleverly drawing them int…"
      ]
     },
     "metadata": {},
     "output_type": "display_data"
    },
    {
     "data": {
      "application/vnd.jupyter.widget-view+json": {
       "model_id": "99900946159e4abb934e508a62c4e4c8",
       "version_major": 2,
       "version_minor": 0
      },
      "text/plain": [
       "HTML(value='1. In a group, do you throw out bold, exaggerated comments that get everyone’s attention?')"
      ]
     },
     "metadata": {},
     "output_type": "display_data"
    },
    {
     "data": {
      "application/vnd.jupyter.widget-view+json": {
       "model_id": "375a052b591042929c2e215bd6739fdc",
       "version_major": 2,
       "version_minor": 0
      },
      "text/plain": [
       "Dropdown(options=('disagree', 'agree', 'strongly agree'), value='disagree')"
      ]
     },
     "metadata": {},
     "output_type": "display_data"
    },
    {
     "data": {
      "application/vnd.jupyter.widget-view+json": {
       "model_id": "99c471ff629a4ac7a1e4038eda257ea0",
       "version_major": 2,
       "version_minor": 0
      },
      "text/plain": [
       "HTML(value='2. Do you tease someone to make them feel more included and part of the group moreso than seeing t…"
      ]
     },
     "metadata": {},
     "output_type": "display_data"
    },
    {
     "data": {
      "application/vnd.jupyter.widget-view+json": {
       "model_id": "0412b89a5b474233907025761b9cc0e6",
       "version_major": 2,
       "version_minor": 0
      },
      "text/plain": [
       "Dropdown(options=('disagree', 'agree', 'strongly agree'), value='disagree')"
      ]
     },
     "metadata": {},
     "output_type": "display_data"
    },
    {
     "data": {
      "application/vnd.jupyter.widget-view+json": {
       "model_id": "617b2e022d51419184365922338af616",
       "version_major": 2,
       "version_minor": 0
      },
      "text/plain": [
       "HTML(value='3. When you tease, is it a way for you to bond with someone, testing the waters of your friendship…"
      ]
     },
     "metadata": {},
     "output_type": "display_data"
    },
    {
     "data": {
      "application/vnd.jupyter.widget-view+json": {
       "model_id": "3ea04a90b3c44bafb24f338f4d69f47a",
       "version_major": 2,
       "version_minor": 0
      },
      "text/plain": [
       "Dropdown(options=('disagree', 'agree', 'strongly agree'), value='disagree')"
      ]
     },
     "metadata": {},
     "output_type": "display_data"
    },
    {
     "data": {
      "application/vnd.jupyter.widget-view+json": {
       "model_id": "6519b58637f54589948ce652129797f3",
       "version_major": 2,
       "version_minor": 0
      },
      "text/plain": [
       "HTML(value='4. Do you prefer elaborate setups and playful tricks over a direct approach in your teasing?')"
      ]
     },
     "metadata": {},
     "output_type": "display_data"
    },
    {
     "data": {
      "application/vnd.jupyter.widget-view+json": {
       "model_id": "7bc2bbf1ae8a4a5d8a80ab1a7c754e48",
       "version_major": 2,
       "version_minor": 0
      },
      "text/plain": [
       "Dropdown(options=('disagree', 'agree', 'strongly agree'), value='disagree')"
      ]
     },
     "metadata": {},
     "output_type": "display_data"
    },
    {
     "data": {
      "application/vnd.jupyter.widget-view+json": {
       "model_id": "aa7feba903df41c09752305f1f867843",
       "version_major": 2,
       "version_minor": 0
      },
      "text/plain": [
       "HTML(value=\"5. Do you find amusement in pushing someone's buttons?\")"
      ]
     },
     "metadata": {},
     "output_type": "display_data"
    },
    {
     "data": {
      "application/vnd.jupyter.widget-view+json": {
       "model_id": "43e78bf59789453796482c505a89ee24",
       "version_major": 2,
       "version_minor": 0
      },
      "text/plain": [
       "Dropdown(options=('disagree', 'agree', 'strongly agree'), value='disagree')"
      ]
     },
     "metadata": {},
     "output_type": "display_data"
    },
    {
     "data": {
      "application/vnd.jupyter.widget-view+json": {
       "model_id": "6717d9ade6914dbeb1681780fce99055",
       "version_major": 2,
       "version_minor": 0
      },
      "text/plain": [
       "HTML(value='<h3>Responsibility</h3><b>Description:</b> How much responsibility do you take in a situation? A m…"
      ]
     },
     "metadata": {},
     "output_type": "display_data"
    },
    {
     "data": {
      "application/vnd.jupyter.widget-view+json": {
       "model_id": "4eba69c58487471b81bfa21d1f911454",
       "version_major": 2,
       "version_minor": 0
      },
      "text/plain": [
       "HTML(value='1. Do you tend to make impulsive decisions without fully thinking them through?')"
      ]
     },
     "metadata": {},
     "output_type": "display_data"
    },
    {
     "data": {
      "application/vnd.jupyter.widget-view+json": {
       "model_id": "ea222f75b93d4c558977b191e4325cad",
       "version_major": 2,
       "version_minor": 0
      },
      "text/plain": [
       "Dropdown(options=('disagree', 'agree', 'strongly agree'), value='disagree')"
      ]
     },
     "metadata": {},
     "output_type": "display_data"
    },
    {
     "data": {
      "application/vnd.jupyter.widget-view+json": {
       "model_id": "e11557f0fafc48518bd87d21eb163b04",
       "version_major": 2,
       "version_minor": 0
      },
      "text/plain": [
       "HTML(value='2. Do you often set long-term goals for yourself and stick to a plan to achieve them?')"
      ]
     },
     "metadata": {},
     "output_type": "display_data"
    },
    {
     "data": {
      "application/vnd.jupyter.widget-view+json": {
       "model_id": "33228a5af86947988c57f009e8110f1f",
       "version_major": 2,
       "version_minor": 0
      },
      "text/plain": [
       "Dropdown(options=('disagree', 'agree', 'strongly agree'), value='disagree')"
      ]
     },
     "metadata": {},
     "output_type": "display_data"
    },
    {
     "data": {
      "application/vnd.jupyter.widget-view+json": {
       "model_id": "82e3ef7a2f8b4fe88311ab79ba63a17c",
       "version_major": 2,
       "version_minor": 0
      },
      "text/plain": [
       "HTML(value='3. When handling commitments, do you make a point to be reliable and on time?')"
      ]
     },
     "metadata": {},
     "output_type": "display_data"
    },
    {
     "data": {
      "application/vnd.jupyter.widget-view+json": {
       "model_id": "679ed8ff3c584903993b8c029a87f590",
       "version_major": 2,
       "version_minor": 0
      },
      "text/plain": [
       "Dropdown(options=('disagree', 'agree', 'strongly agree'), value='disagree')"
      ]
     },
     "metadata": {},
     "output_type": "display_data"
    },
    {
     "data": {
      "application/vnd.jupyter.widget-view+json": {
       "model_id": "9501cb7b64974aaf966dbc4d21d09715",
       "version_major": 2,
       "version_minor": 0
      },
      "text/plain": [
       "HTML(value='4. Do you have a clear system of managing your tasks and remembering commitments, therefore needin…"
      ]
     },
     "metadata": {},
     "output_type": "display_data"
    },
    {
     "data": {
      "application/vnd.jupyter.widget-view+json": {
       "model_id": "bd6afabfbdf2400493fe4b0345bb7832",
       "version_major": 2,
       "version_minor": 0
      },
      "text/plain": [
       "Dropdown(options=('disagree', 'agree', 'strongly agree'), value='disagree')"
      ]
     },
     "metadata": {},
     "output_type": "display_data"
    },
    {
     "data": {
      "application/vnd.jupyter.widget-view+json": {
       "model_id": "8ab4087d2155488d915673d4805379ba",
       "version_major": 2,
       "version_minor": 0
      },
      "text/plain": [
       "HTML(value='5. Do you find yourself procrastinating and avoiding important tasks?')"
      ]
     },
     "metadata": {},
     "output_type": "display_data"
    },
    {
     "data": {
      "application/vnd.jupyter.widget-view+json": {
       "model_id": "a615ea7c23f4408c99e461806f05c86b",
       "version_major": 2,
       "version_minor": 0
      },
      "text/plain": [
       "Dropdown(options=('disagree', 'agree', 'strongly agree'), value='disagree')"
      ]
     },
     "metadata": {},
     "output_type": "display_data"
    },
    {
     "data": {
      "application/vnd.jupyter.widget-view+json": {
       "model_id": "4774aa5fadbe46488e389e38f0271cb2",
       "version_major": 2,
       "version_minor": 0
      },
      "text/plain": [
       "Button(description='Submit Entry', style=ButtonStyle())"
      ]
     },
     "metadata": {},
     "output_type": "display_data"
    },
    {
     "data": {
      "application/vnd.jupyter.widget-view+json": {
       "model_id": "e1d56ae137814fceab362e94f26164b2",
       "version_major": 2,
       "version_minor": 0
      },
      "text/plain": [
       "Output()"
      ]
     },
     "metadata": {},
     "output_type": "display_data"
    }
   ],
   "source": [
    "import pandas as pd\n",
    "import ipywidgets as widgets\n",
    "from IPython.display import display, HTML\n",
    "\n",
    "# Function to create a new entry\n",
    "def create_entry(name, size, teasing, responsibility, size_num, teasing_num, responsibility_num):\n",
    "    new_entry = {\n",
    "        'Name': name,\n",
    "        'Size': size,\n",
    "        'Teasing': teasing,\n",
    "        'Responsibility': responsibility,\n",
    "        'Size_num': size_num,\n",
    "        'Teasing_num': teasing_num,\n",
    "        'Responsibility_num': responsibility_num,\n",
    "        'Type': \"codebug\"\n",
    "    }\n",
    "    return pd.DataFrame([new_entry])  \n",
    "\n",
    "# Input widgets\n",
    "name_input = widgets.Text(value='', description='Name:')\n",
    "\n",
    "# Size Questions\n",
    "size_explanation = widgets.HTML(value=\"<h3>Size</h3><b>Description:</b> Given the abstract context they are normally referenced in, are you a bottom (little) or top (huge)\")\n",
    "size_q1_explanation = widgets.HTML(value=\"1. Do you tackle challenges head-on or with calculated steps?\")\n",
    "size_q1 = widgets.Dropdown(options=['disagree', 'agree', 'strongly agree'], value='disagree')\n",
    "\n",
    "size_q2_explanation = widgets.HTML(value=\"2. In a social situation, do you typically prefer to stay in the background and observe instead of leading the conversation?\")\n",
    "size_q2 = widgets.Dropdown(options=['disagree', 'agree', 'strongly agree'], value='disagree')\n",
    "\n",
    "size_q3_explanation = widgets.HTML(value=\"3. If you were playing a strategy game, do you rush to take the lead with bold moves?\")\n",
    "size_q3 = widgets.Dropdown(options=['disagree', 'agree', 'strongly agree'], value='disagree')\n",
    "\n",
    "size_q4_explanation = widgets.HTML(value=\"4. Do you feel more comfortable in small, intimate settings or large, crowded environments?\")\n",
    "size_q4 = widgets.Dropdown(options=['disagree', 'agree', 'strongly agree'], value='disagree')\n",
    "\n",
    "size_q5_explanation = widgets.HTML(value=\"5. In a group setting, do you feel more comfortable taking on a leadership role over without standing out?\")\n",
    "size_q5 = widgets.Dropdown(options=['disagree', 'agree', 'strongly agree'], value='disagree')\n",
    "\n",
    "# Teasing Questions\n",
    "teasing_explanation = widgets.HTML(value=\"<h3>Teasing</h3><b>Description:</b> When you tease your friends, are you cleverly drawing them into your silly trap (piss) or are you just shouting insults at them (shit)?\")\n",
    "teasing_q1_explanation = widgets.HTML(value=\"1. In a group, do you throw out bold, exaggerated comments that get everyone’s attention?\")\n",
    "teasing_q1 = widgets.Dropdown(options=['disagree', 'agree', 'strongly agree'], value='disagree')\n",
    "\n",
    "teasing_q2_explanation = widgets.HTML(value=\"2. Do you tease someone to make them feel more included and part of the group moreso than seeing their reactions?\")\n",
    "teasing_q2 = widgets.Dropdown(options=['disagree', 'agree', 'strongly agree'], value='disagree')\n",
    "\n",
    "teasing_q3_explanation = widgets.HTML(value=\"3. When you tease, is it a way for you to bond with someone, testing the waters of your friendship?\")\n",
    "teasing_q3 = widgets.Dropdown(options=['disagree', 'agree', 'strongly agree'], value='disagree')\n",
    "\n",
    "teasing_q4_explanation = widgets.HTML(value=\"4. Do you prefer elaborate setups and playful tricks over a direct approach in your teasing?\")\n",
    "teasing_q4 = widgets.Dropdown(options=['disagree', 'agree', 'strongly agree'], value='disagree')\n",
    "\n",
    "teasing_q5_explanation = widgets.HTML(value=\"5. Do you find amusement in pushing someone's buttons?\")\n",
    "teasing_q5 = widgets.Dropdown(options=['disagree', 'agree', 'strongly agree'], value='disagree')\n",
    "\n",
    "# Responsibility Questions\n",
    "responsibility_explanation = widgets.HTML(value=\"<h3>Responsibility</h3><b>Description:</b> How much responsibility do you take in a situation? A man makes plans and to-do lists. A man remembers his friend their birthdays. A boy has cups all over his desk and still needs to be reminded to drink water.<br>These are impulses, not successes. A man can still be a mess and fail to drink water But she has a system.\")\n",
    "responsibility_q1_explanation = widgets.HTML(value=\"1. Do you tend to make impulsive decisions without fully thinking them through?\")\n",
    "responsibility_q1 = widgets.Dropdown(options=['disagree', 'agree', 'strongly agree'], value='disagree')\n",
    "\n",
    "responsibility_q2_explanation = widgets.HTML(value=\"2. Do you often set long-term goals for yourself and stick to a plan to achieve them?\")\n",
    "responsibility_q2 = widgets.Dropdown(options=['disagree', 'agree', 'strongly agree'], value='disagree')\n",
    "\n",
    "responsibility_q3_explanation = widgets.HTML(value=\"3. When handling commitments, do you make a point to be reliable and on time?\")\n",
    "responsibility_q3 = widgets.Dropdown(options=['disagree', 'agree', 'strongly agree'], value='disagree')\n",
    "\n",
    "responsibility_q4_explanation = widgets.HTML(value=\"4. Do you have a clear system of managing your tasks and remembering commitments, therefore needing no help to stay on track?\")\n",
    "responsibility_q4 = widgets.Dropdown(options=['disagree', 'agree', 'strongly agree'], value='disagree')\n",
    "\n",
    "responsibility_q5_explanation = widgets.HTML(value=\"5. Do you find yourself procrastinating and avoiding important tasks?\")\n",
    "responsibility_q5 = widgets.Dropdown(options=['disagree', 'agree', 'strongly agree'], value='disagree')\n",
    "\n",
    "submit_button = widgets.Button(description=\"Submit Entry\")\n",
    "output = widgets.Output()\n",
    "\n",
    "# Function to calculate score for each question\n",
    "def calculate_score(answer:str, inverse: bool = 0):\n",
    "    if inverse == 1:\n",
    "        return {'disagree': 2, 'agree': 1, 'strongly agree': 0}.get(answer, 0)\n",
    "    \n",
    "    else:\n",
    "        return {'disagree': 0, 'agree': 1, 'strongly agree': 2}.get(answer, 0)\n",
    "\n",
    "# Functions to calculate overall scores for each trait\n",
    "def get_size_score():\n",
    "    return sum([calculate_score(size_q1.value), calculate_score(size_q2.value, 1), calculate_score(size_q3.value),\n",
    "                calculate_score(size_q4.value, 1), calculate_score(size_q5.value)])/5\n",
    "\n",
    "def get_teasing_score():\n",
    "    return sum([calculate_score(teasing_q1.value), calculate_score(teasing_q2.value, 1), calculate_score(teasing_q3.value),\n",
    "                calculate_score(teasing_q4.value, 1), calculate_score(teasing_q5.value)])/5\n",
    "\n",
    "def get_responsibility_score():\n",
    "    return sum([calculate_score(responsibility_q1.value,1), calculate_score(responsibility_q2.value), calculate_score(responsibility_q3.value),\n",
    "                calculate_score(responsibility_q4.value), calculate_score(responsibility_q5.value,1)])/5\n",
    "\n",
    "# Button click handler\n",
    "def on_button_click(b):\n",
    "    global data\n",
    "\n",
    "    # Calculate scores for each trait\n",
    "    size_score = get_size_score()\n",
    "    teasing_score = get_teasing_score()\n",
    "    responsibility_score = get_responsibility_score()\n",
    "    size_type = size_levels[round(size_score)]\n",
    "    teasing_type = teasing_levels[round(teasing_score)]\n",
    "    responsibility_type = responsibility_levels[round(responsibility_score)]\n",
    "\n",
    "    # Create new entry with scores\n",
    "    new_entry = create_entry(\n",
    "        name_input.value,\n",
    "        size_type,\n",
    "        teasing_type,\n",
    "        responsibility_type,\n",
    "        size_score,\n",
    "        teasing_score,\n",
    "        responsibility_score,\n",
    "    )\n",
    "    \n",
    "    # Correctly reference the global 'dataset' variable\n",
    "    data = pd.concat([data, new_entry], ignore_index=True)\n",
    "    \n",
    "    with output:\n",
    "        print(f\"Saved entry for {name_input.value}\")\n",
    "        print(f\"Size Score: {size_type} ({size_score}), Teasing Score: {teasing_type} ({teasing_score}), Responsibility Score: {responsibility_type} ({responsibility_score})\")\n",
    "\n",
    "# Attach the button click handler\n",
    "submit_button.on_click(on_button_click)\n",
    "\n",
    "# Display all input fields and the submit button\n",
    "display(name_input,\n",
    "        size_explanation, size_q1_explanation, size_q1, size_q2_explanation, size_q2, size_q3_explanation, size_q3, \n",
    "        size_q4_explanation, size_q4, size_q5_explanation, size_q5,\n",
    "        teasing_explanation, teasing_q1_explanation, teasing_q1, teasing_q2_explanation, teasing_q2, teasing_q3_explanation, teasing_q3,\n",
    "        teasing_q4_explanation, teasing_q4, teasing_q5_explanation, teasing_q5,\n",
    "        responsibility_explanation, responsibility_q1_explanation, responsibility_q1, responsibility_q2_explanation, responsibility_q2,\n",
    "        responsibility_q3_explanation, responsibility_q3, responsibility_q4_explanation, responsibility_q4,\n",
    "        responsibility_q5_explanation, responsibility_q5,\n",
    "        submit_button, output)\n"
   ]
  },
  {
   "cell_type": "markdown",
   "metadata": {},
   "source": [
    "##### Generate heatmap"
   ]
  },
  {
   "cell_type": "code",
   "execution_count": 26,
   "metadata": {},
   "outputs": [
    {
     "data": {
      "image/png": "[encoded data removed]",
      "text/plain": [
       "<Figure size 800x600 with 1 Axes>"
      ]
     },
     "metadata": {},
     "output_type": "display_data"
    }
   ],
   "source": [
    "dissimilarity_matrix = pdist(data[['Size_num', 'Teasing_num', 'Responsibility_num']], metric='euclidean')\n",
    "similarity_matrix = 1 - squareform(dissimilarity_matrix)\n",
    "\n",
    "similarity_df = pd.DataFrame(similarity_matrix, index=data['Name'], columns=data['Name'])\n",
    "\n",
    "label_colors = ['red' if t == 'codebug' else 'black' for t in data['Type']]\n",
    "\n",
    "plt.figure(figsize=(8, 6))\n",
    "\n",
    "sns.heatmap(similarity_df, cmap='Reds', annot=False, cbar=False, \n",
    "            xticklabels=similarity_df.columns, yticklabels=similarity_df.index)\n",
    "\n",
    "plt.title(\"Alignment Similarity Heatmap\")\n",
    "plt.xlabel(\"Names\")\n",
    "plt.ylabel(\"Names\")\n",
    "plt.xticks(rotation=90)\n",
    "\n",
    "ax = plt.gca()\n",
    "for label, color in zip(ax.get_xticklabels(), label_colors):\n",
    "    label.set_color(color)\n",
    "for label, color in zip(ax.get_yticklabels(), label_colors):\n",
    "    label.set_color(color)\n",
    "\n",
    "plt.show()\n",
    "\n",
    "\n"
   ]
  },
  {
   "cell_type": "markdown",
   "metadata": {},
   "source": [
    "#### Generate the 3D plot"
   ]
  },
  {
   "cell_type": "code",
   "execution_count": 47,
   "metadata": {},
   "outputs": [
    {
     "data": {
      "application/vnd.plotly.v1+json": {
       "config": {
        "plotlyServerURL": "https://plot.ly"
       },
       "data": [
        {
         "marker": {
          "color": [
           "rgb(100, 100, 0)",
           "rgb(100, 100, 100)",
           "rgb(0, 0, 100)",
           "rgb(0, 0, 0)",
           "rgb(100, 50, 0)",
           "rgb(0, 50, 100)",
           "rgb(50, 100, 50)",
           "rgb(0, 50, 0)",
           "rgb(100, 0, 0)",
           "rgb(100, 100, 0)",
           "rgb(0, 0, 0)",
           "rgb(0, 100, 0)",
           "rgb(100, 50, 0)",
           "rgb(0, 100, 100)",
           "rgb(0, 0, 100)"
          ],
          "size": 5
         },
         "mode": "markers+text",
         "text": [
          "Bo",
          "Reya",
          "Ellie",
          "Shoomi",
          "Camilla",
          "Layna",
          "Toma",
          "Cerber",
          "Neuro",
          "Evil",
          "Bao",
          "Numi",
          "Mini",
          "Vedal",
          "Steno"
         ],
         "textposition": "top center",
         "type": "scatter3d",
         "x": {
          "bdata": "f0JlYVND/j97tvyfQcwAQFqA140c+pw/9oW4ltNHw79aisBdARP/P1qf6V9tI8U/R5UlehA86D/Ad8H21/Wlv/z314RDAwFACQp9rvuc/j93dOT1JWGxv1ehYEN6ZYO/hta3xG8xAUBgaByuG1uwv4q5Vj9cu6a/",
          "dtype": "f8"
         },
         "y": {
          "bdata": "9/y59xZO/z8CDmJExsMBQChGxiCp/cs/CCp76Sq0uT+4YjeULp7wP0e3/bIGLvE/7GeWSk0xAUDsT8JpXQHtP4x3TcnpGb4/SEoeFWn+/T/06Zl4kVOwv8T+12/GuQBApYfz8J9t6z/GJ+y6oMb/P1QjtmWaI70/",
          "dtype": "f8"
         },
         "z": {
          "bdata": "7USpjugsmr/rXbupsoX7PxjCU0phKv0/tpxhJ7fqsb+KZUTBN763P4iYofrguP8/WSB5aioB8D8FpqcbVp6xP9gA4x4hhLa/LHEAwB4LnT8idqPNDJ60v3D5xjY6Hca/dcsJDpoDpL9RoOrzg3UAQIqpUNFXRQBA",
          "dtype": "f8"
         }
        }
       ],
       "layout": {
        "scene": {
         "xaxis": {
          "range": [
           -0.5,
           2.5
          ],
          "ticktext": [
           "little",
           "regular",
           "huge"
          ],
          "tickvals": [
           0,
           1,
           2
          ],
          "title": {
           "text": "Size"
          }
         },
         "yaxis": {
          "range": [
           -0.5,
           2.5
          ],
          "ticktext": [
           "piss",
           "butt",
           "shit"
          ],
          "tickvals": [
           0,
           1,
           2
          ],
          "title": {
           "text": "Teasing"
          }
         },
         "zaxis": {
          "range": [
           -0.5,
           2.5
          ],
          "ticktext": [
           "boy",
           "guy",
           "man"
          ],
          "tickvals": [
           0,
           1,
           2
          ],
          "title": {
           "text": "Responsibility"
          }
         }
        },
        "template": {
         "data": {
          "bar": [
           {
            "error_x": {
             "color": "#2a3f5f"
            },
            "error_y": {
             "color": "#2a3f5f"
            },
            "marker": {
             "line": {
              "color": "#E5ECF6",
              "width": 0.5
             },
             "pattern": {
              "fillmode": "overlay",
              "size": 10,
              "solidity": 0.2
             }
            },
            "type": "bar"
           }
          ],
          "barpolar": [
           {
            "marker": {
             "line": {
              "color": "#E5ECF6",
              "width": 0.5
             },
             "pattern": {
              "fillmode": "overlay",
              "size": 10,
              "solidity": 0.2
             }
            },
            "type": "barpolar"
           }
          ],
          "carpet": [
           {
            "aaxis": {
             "endlinecolor": "#2a3f5f",
             "gridcolor": "white",
             "linecolor": "white",
             "minorgridcolor": "white",
             "startlinecolor": "#2a3f5f"
            },
            "baxis": {
             "endlinecolor": "#2a3f5f",
             "gridcolor": "white",
             "linecolor": "white",
             "minorgridcolor": "white",
             "startlinecolor": "#2a3f5f"
            },
            "type": "carpet"
           }
          ],
          "choropleth": [
           {
            "colorbar": {
             "outlinewidth": 0,
             "ticks": ""
            },
            "type": "choropleth"
           }
          ],
          "contour": [
           {
            "colorbar": {
             "outlinewidth": 0,
             "ticks": ""
            },
            "colorscale": [
             [
              0,
              "#0d0887"
             ],
             [
              0.1111111111111111,
              "#46039f"
             ],
             [
              0.2222222222222222,
              "#7201a8"
             ],
             [
              0.3333333333333333,
              "#9c179e"
             ],
             [
              0.4444444444444444,
              "#bd3786"
             ],
             [
              0.5555555555555556,
              "#d8576b"
             ],
             [
              0.6666666666666666,
              "#ed7953"
             ],
             [
              0.7777777777777778,
              "#fb9f3a"
             ],
             [
              0.8888888888888888,
              "#fdca26"
             ],
             [
              1,
              "#f0f921"
             ]
            ],
            "type": "contour"
           }
          ],
          "contourcarpet": [
           {
            "colorbar": {
             "outlinewidth": 0,
             "ticks": ""
            },
            "type": "contourcarpet"
           }
          ],
          "heatmap": [
           {
            "colorbar": {
             "outlinewidth": 0,
             "ticks": ""
            },
            "colorscale": [
             [
              0,
              "#0d0887"
             ],
             [
              0.1111111111111111,
              "#46039f"
             ],
             [
              0.2222222222222222,
              "#7201a8"
             ],
             [
              0.3333333333333333,
              "#9c179e"
             ],
             [
              0.4444444444444444,
              "#bd3786"
             ],
             [
              0.5555555555555556,
              "#d8576b"
             ],
             [
              0.6666666666666666,
              "#ed7953"
             ],
             [
              0.7777777777777778,
              "#fb9f3a"
             ],
             [
              0.8888888888888888,
              "#fdca26"
             ],
             [
              1,
              "#f0f921"
             ]
            ],
            "type": "heatmap"
           }
          ],
          "histogram": [
           {
            "marker": {
             "pattern": {
              "fillmode": "overlay",
              "size": 10,
              "solidity": 0.2
             }
            },
            "type": "histogram"
           }
          ],
          "histogram2d": [
           {
            "colorbar": {
             "outlinewidth": 0,
             "ticks": ""
            },
            "colorscale": [
             [
              0,
              "#0d0887"
             ],
             [
              0.1111111111111111,
              "#46039f"
             ],
             [
              0.2222222222222222,
              "#7201a8"
             ],
             [
              0.3333333333333333,
              "#9c179e"
             ],
             [
              0.4444444444444444,
              "#bd3786"
             ],
             [
              0.5555555555555556,
              "#d8576b"
             ],
             [
              0.6666666666666666,
              "#ed7953"
             ],
             [
              0.7777777777777778,
              "#fb9f3a"
             ],
             [
              0.8888888888888888,
              "#fdca26"
             ],
             [
              1,
              "#f0f921"
             ]
            ],
            "type": "histogram2d"
           }
          ],
          "histogram2dcontour": [
           {
            "colorbar": {
             "outlinewidth": 0,
             "ticks": ""
            },
            "colorscale": [
             [
              0,
              "#0d0887"
             ],
             [
              0.1111111111111111,
              "#46039f"
             ],
             [
              0.2222222222222222,
              "#7201a8"
             ],
             [
              0.3333333333333333,
              "#9c179e"
             ],
             [
              0.4444444444444444,
              "#bd3786"
             ],
             [
              0.5555555555555556,
              "#d8576b"
             ],
             [
              0.6666666666666666,
              "#ed7953"
             ],
             [
              0.7777777777777778,
              "#fb9f3a"
             ],
             [
              0.8888888888888888,
              "#fdca26"
             ],
             [
              1,
              "#f0f921"
             ]
            ],
            "type": "histogram2dcontour"
           }
          ],
          "mesh3d": [
           {
            "colorbar": {
             "outlinewidth": 0,
             "ticks": ""
            },
            "type": "mesh3d"
           }
          ],
          "parcoords": [
           {
            "line": {
             "colorbar": {
              "outlinewidth": 0,
              "ticks": ""
             }
            },
            "type": "parcoords"
           }
          ],
          "pie": [
           {
            "automargin": true,
            "type": "pie"
           }
          ],
          "scatter": [
           {
            "fillpattern": {
             "fillmode": "overlay",
             "size": 10,
             "solidity": 0.2
            },
            "type": "scatter"
           }
          ],
          "scatter3d": [
           {
            "line": {
             "colorbar": {
              "outlinewidth": 0,
              "ticks": ""
             }
            },
            "marker": {
             "colorbar": {
              "outlinewidth": 0,
              "ticks": ""
             }
            },
            "type": "scatter3d"
           }
          ],
          "scattercarpet": [
           {
            "marker": {
             "colorbar": {
              "outlinewidth": 0,
              "ticks": ""
             }
            },
            "type": "scattercarpet"
           }
          ],
          "scattergeo": [
           {
            "marker": {
             "colorbar": {
              "outlinewidth": 0,
              "ticks": ""
             }
            },
            "type": "scattergeo"
           }
          ],
          "scattergl": [
           {
            "marker": {
             "colorbar": {
              "outlinewidth": 0,
              "ticks": ""
             }
            },
            "type": "scattergl"
           }
          ],
          "scattermap": [
           {
            "marker": {
             "colorbar": {
              "outlinewidth": 0,
              "ticks": ""
             }
            },
            "type": "scattermap"
           }
          ],
          "scattermapbox": [
           {
            "marker": {
             "colorbar": {
              "outlinewidth": 0,
              "ticks": ""
             }
            },
            "type": "scattermapbox"
           }
          ],
          "scatterpolar": [
           {
            "marker": {
             "colorbar": {
              "outlinewidth": 0,
              "ticks": ""
             }
            },
            "type": "scatterpolar"
           }
          ],
          "scatterpolargl": [
           {
            "marker": {
             "colorbar": {
              "outlinewidth": 0,
              "ticks": ""
             }
            },
            "type": "scatterpolargl"
           }
          ],
          "scatterternary": [
           {
            "marker": {
             "colorbar": {
              "outlinewidth": 0,
              "ticks": ""
             }
            },
            "type": "scatterternary"
           }
          ],
          "surface": [
           {
            "colorbar": {
             "outlinewidth": 0,
             "ticks": ""
            },
            "colorscale": [
             [
              0,
              "#0d0887"
             ],
             [
              0.1111111111111111,
              "#46039f"
             ],
             [
              0.2222222222222222,
              "#7201a8"
             ],
             [
              0.3333333333333333,
              "#9c179e"
             ],
             [
              0.4444444444444444,
              "#bd3786"
             ],
             [
              0.5555555555555556,
              "#d8576b"
             ],
             [
              0.6666666666666666,
              "#ed7953"
             ],
             [
              0.7777777777777778,
              "#fb9f3a"
             ],
             [
              0.8888888888888888,
              "#fdca26"
             ],
             [
              1,
              "#f0f921"
             ]
            ],
            "type": "surface"
           }
          ],
          "table": [
           {
            "cells": {
             "fill": {
              "color": "#EBF0F8"
             },
             "line": {
              "color": "white"
             }
            },
            "header": {
             "fill": {
              "color": "#C8D4E3"
             },
             "line": {
              "color": "white"
             }
            },
            "type": "table"
           }
          ]
         },
         "layout": {
          "annotationdefaults": {
           "arrowcolor": "#2a3f5f",
           "arrowhead": 0,
           "arrowwidth": 1
          },
          "autotypenumbers": "strict",
          "coloraxis": {
           "colorbar": {
            "outlinewidth": 0,
            "ticks": ""
           }
          },
          "colorscale": {
           "diverging": [
            [
             0,
             "#8e0152"
            ],
            [
             0.1,
             "#c51b7d"
            ],
            [
             0.2,
             "#de77ae"
            ],
            [
             0.3,
             "#f1b6da"
            ],
            [
             0.4,
             "#fde0ef"
            ],
            [
             0.5,
             "#f7f7f7"
            ],
            [
             0.6,
             "#e6f5d0"
            ],
            [
             0.7,
             "#b8e186"
            ],
            [
             0.8,
             "#7fbc41"
            ],
            [
             0.9,
             "#4d9221"
            ],
            [
             1,
             "#276419"
            ]
           ],
           "sequential": [
            [
             0,
             "#0d0887"
            ],
            [
             0.1111111111111111,
             "#46039f"
            ],
            [
             0.2222222222222222,
             "#7201a8"
            ],
            [
             0.3333333333333333,
             "#9c179e"
            ],
            [
             0.4444444444444444,
             "#bd3786"
            ],
            [
             0.5555555555555556,
             "#d8576b"
            ],
            [
             0.6666666666666666,
             "#ed7953"
            ],
            [
             0.7777777777777778,
             "#fb9f3a"
            ],
            [
             0.8888888888888888,
             "#fdca26"
            ],
            [
             1,
             "#f0f921"
            ]
           ],
           "sequentialminus": [
            [
             0,
             "#0d0887"
            ],
            [
             0.1111111111111111,
             "#46039f"
            ],
            [
             0.2222222222222222,
             "#7201a8"
            ],
            [
             0.3333333333333333,
             "#9c179e"
            ],
            [
             0.4444444444444444,
             "#bd3786"
            ],
            [
             0.5555555555555556,
             "#d8576b"
            ],
            [
             0.6666666666666666,
             "#ed7953"
            ],
            [
             0.7777777777777778,
             "#fb9f3a"
            ],
            [
             0.8888888888888888,
             "#fdca26"
            ],
            [
             1,
             "#f0f921"
            ]
           ]
          },
          "colorway": [
           "#636efa",
           "#EF553B",
           "#00cc96",
           "#ab63fa",
           "#FFA15A",
           "#19d3f3",
           "#FF6692",
           "#B6E880",
           "#FF97FF",
           "#FECB52"
          ],
          "font": {
           "color": "#2a3f5f"
          },
          "geo": {
           "bgcolor": "white",
           "lakecolor": "white",
           "landcolor": "#E5ECF6",
           "showlakes": true,
           "showland": true,
           "subunitcolor": "white"
          },
          "hoverlabel": {
           "align": "left"
          },
          "hovermode": "closest",
          "mapbox": {
           "style": "light"
          },
          "paper_bgcolor": "white",
          "plot_bgcolor": "#E5ECF6",
          "polar": {
           "angularaxis": {
            "gridcolor": "white",
            "linecolor": "white",
            "ticks": ""
           },
           "bgcolor": "#E5ECF6",
           "radialaxis": {
            "gridcolor": "white",
            "linecolor": "white",
            "ticks": ""
           }
          },
          "scene": {
           "xaxis": {
            "backgroundcolor": "#E5ECF6",
            "gridcolor": "white",
            "gridwidth": 2,
            "linecolor": "white",
            "showbackground": true,
            "ticks": "",
            "zerolinecolor": "white"
           },
           "yaxis": {
            "backgroundcolor": "#E5ECF6",
            "gridcolor": "white",
            "gridwidth": 2,
            "linecolor": "white",
            "showbackground": true,
            "ticks": "",
            "zerolinecolor": "white"
           },
           "zaxis": {
            "backgroundcolor": "#E5ECF6",
            "gridcolor": "white",
            "gridwidth": 2,
            "linecolor": "white",
            "showbackground": true,
            "ticks": "",
            "zerolinecolor": "white"
           }
          },
          "shapedefaults": {
           "line": {
            "color": "#2a3f5f"
           }
          },
          "ternary": {
           "aaxis": {
            "gridcolor": "white",
            "linecolor": "white",
            "ticks": ""
           },
           "baxis": {
            "gridcolor": "white",
            "linecolor": "white",
            "ticks": ""
           },
           "bgcolor": "#E5ECF6",
           "caxis": {
            "gridcolor": "white",
            "linecolor": "white",
            "ticks": ""
           }
          },
          "title": {
           "x": 0.05
          },
          "xaxis": {
           "automargin": true,
           "gridcolor": "white",
           "linecolor": "white",
           "ticks": "",
           "title": {
            "standoff": 15
           },
           "zerolinecolor": "white",
           "zerolinewidth": 2
          },
          "yaxis": {
           "automargin": true,
           "gridcolor": "white",
           "linecolor": "white",
           "ticks": "",
           "title": {
            "standoff": 15
           },
           "zerolinecolor": "white",
           "zerolinewidth": 2
          }
         }
        },
        "title": {
         "text": "3D Scatter Plot"
        }
       }
      }
     },
     "metadata": {},
     "output_type": "display_data"
    }
   ],
   "source": [
    "np.random.seed(123)\n",
    "data['offset_x'] = np.random.normal(0, 0.1, size=len(data))\n",
    "data['offset_y'] = np.random.normal(0, 0.1, size=len(data))\n",
    "data['offset_z'] = np.random.normal(0, 0.1, size=len(data))\n",
    "\n",
    "data['rgb'] = data.apply(lambda row: f'rgb({int(row[\"Size_num\"])*50}, {int(row[\"Teasing_num\"])*50}, {int(row[\"Responsibility_num\"])*50})', axis=1)\n",
    "\n",
    "fig = go.Figure(data=[go.Scatter3d(\n",
    "    x=data['Size_num'] + data['offset_x'],\n",
    "    y=data['Teasing_num'] + data['offset_y'],\n",
    "    z=data['Responsibility_num'] + data['offset_z'],\n",
    "    mode='markers+text',\n",
    "    text=data['Name'],\n",
    "    textposition='top center',\n",
    "    marker=dict(size=5, color= data['rgb']) \n",
    ")])\n",
    "\n",
    "fig.update_layout(\n",
    "    scene=dict(\n",
    "        xaxis=dict(title=\"Size\", tickvals=[0, 1, 2], ticktext=size_levels, range=[-0.5, 2.5]),\n",
    "        yaxis=dict(title=\"Teasing\", tickvals=[0, 1, 2], ticktext=teasing_levels, range=[-0.5, 2.5]),\n",
    "        zaxis=dict(title=\"Responsibility\", tickvals=[0, 1, 2], ticktext=responsibility_levels, range=[-0.5, 2.5])\n",
    "    ),\n",
    "    title=\"3D Scatter Plot\"\n",
    ")\n",
    "\n",
    "fig.show()"
   ]
  },
  {
   "cell_type": "markdown",
   "metadata": {},
   "source": [
    "#### Top 5 similar streamers to you"
   ]
  },
  {
   "cell_type": "code",
   "execution_count": 48,
   "metadata": {},
   "outputs": [
    {
     "name": "stdout",
     "output_type": "stream",
     "text": [
      "Top 5 most similar 'streamer' entries compared to you:\n",
      "Name\n",
      "Ellie     0.800000\n",
      "Layna    -0.019804\n",
      "Shoomi   -0.800000\n",
      "Bao      -0.800000\n",
      "Vedal    -1.009975\n",
      "Name: Steno, dtype: float64\n"
     ]
    }
   ],
   "source": [
    "codebug_data = data[data['Type'] == 'codebug']\n",
    "streamer_data = data[data['Type'] == 'streamer']\n",
    "\n",
    "codebug_name = codebug_data['Name'].iloc[0]\n",
    "\n",
    "streamer_similarities = similarity_df[codebug_name][streamer_data['Name']]\n",
    "\n",
    "top_5_similar_streamers = streamer_similarities.sort_values(ascending=False).head(5)\n",
    "\n",
    "print(\"Top 5 most similar 'streamer' entries compared to you:\")\n",
    "print(top_5_similar_streamers)"
   ]
  },
  {
   "cell_type": "markdown",
   "metadata": {},
   "source": [
    "#### Using K-means clustering we can try to identify some groups and view them in 2D."
   ]
  },
  {
   "cell_type": "code",
   "execution_count": 50,
   "metadata": {},
   "outputs": [
    {
     "name": "stdout",
     "output_type": "stream",
     "text": [
      "determined number of clusters: 3\n",
      "QhullError: Could not compute Convex Hull for cluster 0 (possibly degenerate or collinear points).\n"
     ]
    },
    {
     "data": {
      "image/png": "[encoded data removed]",
      "text/plain": [
       "<Figure size 800x600 with 1 Axes>"
      ]
     },
     "metadata": {},
     "output_type": "display_data"
    },
    {
     "name": "stdout",
     "output_type": "stream",
     "text": [
      "Observed statistic: -1.0708146072677744\n",
      "Permutation test p-value: 0.0\n",
      "The clusters differ based on the dissimilarity matrix.\n"
     ]
    }
   ],
   "source": [
    "import numpy as np\n",
    "import pandas as pd\n",
    "import matplotlib.pyplot as plt\n",
    "from sklearn.decomposition import PCA\n",
    "from sklearn.cluster import KMeans\n",
    "from scipy.spatial import ConvexHull, QhullError\n",
    "import seaborn as sns\n",
    "from sklearn.metrics import pairwise_distances\n",
    "\n",
    "pca = PCA(n_components=2)\n",
    "pca_coords = pca.fit_transform(data[['Size_num', 'Teasing_num', 'Responsibility_num']])\n",
    "\n",
    "inertia = []\n",
    "for k in range(1, 11):\n",
    "    kmeans = KMeans(n_clusters=k, random_state=42)\n",
    "    kmeans.fit(pca_coords)\n",
    "    inertia.append(kmeans.inertia_)\n",
    "\n",
    "diffs = np.diff(inertia)\n",
    "\n",
    "for i in range(2, len(diffs)):\n",
    "    if diffs[i] < (diffs[i-1] / 2):\n",
    "        optimal_k = i + 1\n",
    "        print(f\"determined number of clusters: {optimal_k}\")\n",
    "        break\n",
    "\n",
    "kmeans = KMeans(n_clusters=optimal_k, random_state=42)\n",
    "data['Cluster'] = kmeans.fit_predict(pca_coords)\n",
    "\n",
    "plt.figure(figsize=(8, 6))\n",
    "\n",
    "sns.scatterplot(x=pca_coords[:, 0], y=pca_coords[:, 1], hue=data['Cluster'], palette='Set1', s=100, edgecolor='black')\n",
    "\n",
    "for cluster in np.unique(data['Cluster']):\n",
    "    cluster_points = pca_coords[data['Cluster'] == cluster]\n",
    "    \n",
    "    if len(cluster_points) >= 4:\n",
    "        try:\n",
    "            hull = ConvexHull(cluster_points)\n",
    "            for simplex in hull.simplices:\n",
    "                plt.plot(cluster_points[simplex, 0], cluster_points[simplex, 1], 'k-', lw=2)\n",
    "        except QhullError:\n",
    "            print(f\"QhullError: Could not compute Convex Hull for cluster {cluster} (possibly degenerate or collinear points).\")\n",
    "            continue\n",
    "\n",
    "plt.title('PCA with Clusters and Convex Hulls')\n",
    "plt.xlabel('Principal Component 1')\n",
    "plt.ylabel('Principal Component 2')\n",
    "\n",
    "plt.legend(title='Cluster')\n",
    "\n",
    "for i in range(data.shape[0]):\n",
    "    x_offset = np.random.uniform(-0.2, 0.2)\n",
    "    y_offset = np.random.uniform(-0.2, 0.2)\n",
    "    color = 'red' if data[\"Type\"][i] == \"codebug\" else 'black'\n",
    "    plt.text(pca_coords[i, 0] + x_offset, pca_coords[i, 1] + y_offset, data[\"Name\"][i],\n",
    "             fontsize=10, ha='right', va='bottom', color=color)\n",
    "\n",
    "plt.show()\n",
    "\n",
    "dissimilarity_matrix = pairwise_distances(pca_coords, metric='euclidean')\n",
    "\n",
    "def observed_statistic(dissimilarity_matrix, labels):\n",
    "    intra_cluster_dissimilarities = []\n",
    "    inter_cluster_dissimilarities = []\n",
    "\n",
    "    for i in range(len(labels)):\n",
    "        for j in range(i + 1, len(labels)):\n",
    "            dist = dissimilarity_matrix[i, j]\n",
    "            if labels[i] == labels[j]:\n",
    "                intra_cluster_dissimilarities.append(dist)\n",
    "            else:\n",
    "                inter_cluster_dissimilarities.append(dist)\n",
    "\n",
    "    observed_stat = np.mean(intra_cluster_dissimilarities) - np.mean(inter_cluster_dissimilarities)\n",
    "    return observed_stat\n",
    "\n",
    "def permutation_test_stat(dissimilarity_matrix, labels, n_permutations=1000):\n",
    "    observed_stat = observed_statistic(dissimilarity_matrix, labels)\n",
    "    permuted_stats = []\n",
    "\n",
    "    for _ in range(n_permutations):\n",
    "        permuted_labels = np.random.permutation(labels)\n",
    "        permuted_stat = observed_statistic(dissimilarity_matrix, permuted_labels)\n",
    "        permuted_stats.append(permuted_stat)\n",
    "\n",
    "    permuted_stats = np.array(permuted_stats)\n",
    "    p_value = np.mean(np.abs(permuted_stats) >= np.abs(observed_stat))\n",
    "    return observed_stat, p_value\n",
    "\n",
    "observed_stat, p_value = permutation_test_stat(dissimilarity_matrix, data['Cluster'], n_permutations=1000)\n",
    "\n",
    "print(f'Observed statistic: {observed_stat}')\n",
    "print(f'Permutation test p-value: {p_value}')\n",
    "\n",
    "if p_value < 0.05:\n",
    "    print(\"The clusters differ based on the dissimilarity matrix.\")\n",
    "else:\n",
    "    print(\"The clusters do not differ based on the dissimilarity matrix.\")\n"
   ]
  },
  {
   "cell_type": "markdown",
   "metadata": {},
   "source": [
    "#### Hierarchical dendrogram"
   ]
  },
  {
   "cell_type": "code",
   "execution_count": 51,
   "metadata": {},
   "outputs": [
    {
     "data": {
      "image/png": "[encoded data removed]",
      "text/plain": [
       "<Figure size 1000x600 with 1 Axes>"
      ]
     },
     "metadata": {},
     "output_type": "display_data"
    }
   ],
   "source": [
    "from scipy.cluster.hierarchy import linkage, dendrogram, fcluster\n",
    "\n",
    "linkage_matrix = linkage(pca_coords, method='ward')\n",
    "hierarchical_clusters = fcluster(linkage_matrix, optimal_k, criterion='maxclust')\n",
    "\n",
    "data['Hierarchical_Cluster'] = hierarchical_clusters\n",
    "\n",
    "plt.figure(figsize=(10, 6))\n",
    "dendro = dendrogram(linkage_matrix, labels=data['Name'].values, orientation='left', leaf_font_size=10)\n",
    "\n",
    "ax = plt.gca()\n",
    "for label in ax.get_yticklabels():\n",
    "    name = label.get_text()\n",
    "    if data.loc[data['Name'] == name, 'Type'].values[0] == \"codebug\":\n",
    "        label.set_color('red')\n",
    "\n",
    "plt.title('Hierarchical Clustering Dendrogram')\n",
    "plt.xlabel('Distance')\n",
    "plt.ylabel('Samples')\n",
    "plt.show()\n"
   ]
  },
  {
   "cell_type": "markdown",
   "metadata": {},
   "source": [
    "#### Find frequently co occurring traits"
   ]
  },
  {
   "cell_type": "code",
   "execution_count": 52,
   "metadata": {},
   "outputs": [
    {
     "name": "stdout",
     "output_type": "stream",
     "text": [
      "More teasing is correlated to a larger size (correlation coefficient = 0.33, p-value = 0.231), which is not significant.\n",
      "Higher responsibility is correlated to a smaller size (correlation coefficient = -0.34, p-value = 0.215), which is not significant.\n",
      "Higher responsibility is correlated to more teasing (correlation coefficient = 0.04, p-value = 0.875), which is not significant.\n",
      "\n",
      "Most common co-occurrences:\n",
      "Size vs Teasing: ('regular', 'butt')\n",
      "Size vs Responsibility: ('little', 'boy')\n",
      "Teasing vs Responsibility: ('butt', 'guy')\n"
     ]
    }
   ],
   "source": [
    "import pandas as pd\n",
    "from scipy.stats import pearsonr\n",
    "\n",
    "size_labels = {1: 'little', 2: 'regular', 3: 'huge'}\n",
    "teasing_labels = {1: 'piss', 2: 'butt', 3: 'shit'}\n",
    "responsibility_labels = {1: 'boy', 2: 'guy', 3: 'man'}\n",
    "\n",
    "size = data['Size_num'].map(size_labels)\n",
    "teasing = data['Teasing_num'].map(teasing_labels)\n",
    "responsibility = data['Responsibility_num'].map(responsibility_labels)\n",
    "\n",
    "correlations = {\n",
    "    \"Size vs Teasing\": pearsonr(data['Size_num'], data['Teasing_num']),\n",
    "    \"Size vs Responsibility\": pearsonr(data['Size_num'], data['Responsibility_num']),\n",
    "    \"Teasing vs Responsibility\": pearsonr(data['Teasing_num'], data['Responsibility_num'])\n",
    "}\n",
    "\n",
    "for pair, corr in correlations.items():\n",
    "    if corr[1] < 0.05:  # Checking if the p-value is significant\n",
    "        significance = \"significant\"\n",
    "    else:\n",
    "        significance = \"not significant\"\n",
    "\n",
    "    if pair == \"Size vs Teasing\":\n",
    "        if corr[0] < 0:\n",
    "            print(f\"More teasing is correlated to a smaller size (correlation coefficient = {corr[0]:.2f}, p-value = {corr[1]:.3f}), which is {significance}.\")\n",
    "        else:\n",
    "            print(f\"More teasing is correlated to a larger size (correlation coefficient = {corr[0]:.2f}, p-value = {corr[1]:.3f}), which is {significance}.\")\n",
    "    elif pair == \"Size vs Responsibility\":\n",
    "        if corr[0] < 0:\n",
    "            print(f\"Higher responsibility is correlated to a smaller size (correlation coefficient = {corr[0]:.2f}, p-value = {corr[1]:.3f}), which is {significance}.\")\n",
    "        else:\n",
    "            print(f\"Higher responsibility is correlated to a larger size (correlation coefficient = {corr[0]:.2f}, p-value = {corr[1]:.3f}), which is {significance}.\")\n",
    "    elif pair == \"Teasing vs Responsibility\":\n",
    "        if corr[0] < 0:\n",
    "            print(f\"Higher responsibility is correlated to less teasing (correlation coefficient = {corr[0]:.2f}, p-value = {corr[1]:.3f}), which is {significance}.\")\n",
    "        else:\n",
    "            print(f\"Higher responsibility is correlated to more teasing (correlation coefficient = {corr[0]:.2f}, p-value = {corr[1]:.3f}), which is {significance}.\")\n",
    "\n",
    "contingency_size_teasing = pd.crosstab(size, teasing)\n",
    "contingency_size_responsibility = pd.crosstab(size, responsibility)\n",
    "contingency_teasing_responsibility = pd.crosstab(teasing, responsibility)\n",
    "\n",
    "# Find the combination of values (instead of just max count)\n",
    "size_teasing_combination = contingency_size_teasing.stack().idxmax()\n",
    "size_responsibility_combination = contingency_size_responsibility.stack().idxmax()\n",
    "teasing_responsibility_combination = contingency_teasing_responsibility.stack().idxmax()\n",
    "\n",
    "print(\"\\nMost common co-occurrences:\")\n",
    "print(f\"Size vs Teasing: {size_teasing_combination}\")\n",
    "print(f\"Size vs Responsibility: {size_responsibility_combination}\")\n",
    "print(f\"Teasing vs Responsibility: {teasing_responsibility_combination}\")"
   ]
  }
 ],
 "metadata": {
  "kernelspec": {
   "display_name": "Python 3",
   "language": "python",
   "name": "python3"
  },
  "language_info": {
   "codemirror_mode": {
    "name": "ipython",
    "version": 3
   },
   "file_extension": ".py",
   "mimetype": "text/x-python",
   "name": "python",
   "nbconvert_exporter": "python",
   "pygments_lexer": "ipython3",
   "version": "3.11.0"
  }
 },
 "nbformat": 4,
 "nbformat_minor": 2
}
